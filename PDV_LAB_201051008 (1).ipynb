{
  "nbformat": 4,
  "nbformat_minor": 0,
  "metadata": {
    "colab": {
      "name": "PDV_LAB_201051008.ipynb",
      "provenance": []
    },
    "kernelspec": {
      "name": "python3",
      "display_name": "Python 3"
    }
  },
  "cells": [
    {
      "cell_type": "markdown",
      "metadata": {
        "id": "G7f3kurBrTZa"
      },
      "source": [
        "\n",
        "## **Web scraping**"
      ]
    },
    {
      "cell_type": "code",
      "metadata": {
        "id": "JSfAfBByNTex"
      },
      "source": [
        "import requests               \n",
        "from bs4 import BeautifulSoup \n",
        "import pandas as pd              "
      ],
      "execution_count": 1,
      "outputs": []
    },
    {
      "cell_type": "markdown",
      "metadata": {
        "id": "eeWCCmA4rWJE"
      },
      "source": [
        "Details regarding the scraping"
      ]
    },
    {
      "cell_type": "markdown",
      "metadata": {
        "id": "74i8nGEaresR"
      },
      "source": [
        "Saving the data in CSV file"
      ]
    },
    {
      "cell_type": "code",
      "metadata": {
        "colab": {
          "base_uri": "https://localhost:8080/"
        },
        "id": "hDRJY6SZQOcq",
        "outputId": "4917cb2a-8cb1-462a-f2ae-133dc348d978"
      },
      "source": [
        "!pip install fake_useragent"
      ],
      "execution_count": 2,
      "outputs": [
        {
          "output_type": "stream",
          "text": [
            "Requirement already satisfied: fake_useragent in /usr/local/lib/python3.6/dist-packages (0.1.11)\n"
          ],
          "name": "stdout"
        }
      ]
    },
    {
      "cell_type": "code",
      "metadata": {
        "id": "Co9ZcH0jP-Ok"
      },
      "source": [
        "from fake_useragent import UserAgent\n",
        "user_agent = UserAgent()\n",
        "\n",
        "data = []\n",
        "\n",
        "for page_no in range(1, 38):\n",
        "    url = 'https://www.amazon.in/s?i=electronics&bbn=1389401031&rh=n%3A1389401031%2Cp_89%3ARedmi%7CSamsung&dc&page=3&qid=1611370061&rnid=3837712031&ref=sr_pg_' + str(page_no)\n",
        "    page = requests.get(url,headers={'user-agent':user_agent.chrome})\n",
        "    soup = BeautifulSoup(page.content, 'html.parser')\n",
        "\n",
        "    name = soup.select('.a-color-base.a-text-normal')\n",
        "    price = soup.select('.a-price-whole')\n",
        "    rating = soup.select('span.a-icon-alt')\n",
        "    for i in range(len(name)):\n",
        "        \n",
        "        if 'redmi' in name[i].get_text().lower(): \n",
        "            manufacturer = 'redmi'\n",
        "        elif 'samsung' in name[i].get_text().lower():\n",
        "            manufacturer = 'samsung'\n",
        "        else:\n",
        "            manufacturer = 'NA'\n",
        "        data.append([name[i].get_text(), price[i].get_text(),rating[i].get_text().split(' ')[0], manufacturer])"
      ],
      "execution_count": 19,
      "outputs": []
    },
    {
      "cell_type": "code",
      "metadata": {
        "id": "XFoO4ThIl6YI"
      },
      "source": [
        "import pandas as pd\n",
        "df = pd.DataFrame(data, columns=[\"name\", \"price\", \"rating\", \"Manufacturer\"])\n",
        "df.to_csv('data.csv', index=False)"
      ],
      "execution_count": 20,
      "outputs": []
    },
    {
      "cell_type": "markdown",
      "metadata": {
        "id": "ZXxtnoKL5LKG"
      },
      "source": [
        "## **EDA**"
      ]
    },
    {
      "cell_type": "code",
      "metadata": {
        "id": "sUUvAGEF5SC0"
      },
      "source": [
        "df = pd.read_csv('data.csv')"
      ],
      "execution_count": null,
      "outputs": []
    },
    {
      "cell_type": "code",
      "metadata": {
        "id": "wqGywgVhpcu8"
      },
      "source": [
        "grouped = df.groupby(df.Manufacturer) \n",
        "df_redmi = grouped.get_group(\"redmi\")\n",
        "df_samsung = grouped.get_group(\"samsung\") \n"
      ],
      "execution_count": 21,
      "outputs": []
    },
    {
      "cell_type": "code",
      "metadata": {
        "id": "D1UTHRAenrdl"
      },
      "source": [
        "def price_range(df):\n",
        "    class1 = 0 \n",
        "    class2 = 0\n",
        "    class3 = 0\n",
        "\n",
        "    for i in range(len(df)):\n",
        "        price = df.iloc[i, 1].replace(',', '')\n",
        "        rating = df.iloc[i, 2]\n",
        "        manufacturer = df.iloc[i, 3]\n",
        "        price = int(price)\n",
        "        if price > 1000 and price < 5000:\n",
        "            class1 += 1\n",
        "        elif price >= 5000 and price < 10000:\n",
        "            class2 += 1\n",
        "        elif price >= 10000:\n",
        "            class3 += 1 \n",
        "        else:\n",
        "            pass\n",
        "    return [class1, class2, class3]\n"
      ],
      "execution_count": 22,
      "outputs": []
    },
    {
      "cell_type": "code",
      "metadata": {
        "colab": {
          "base_uri": "https://localhost:8080/",
          "height": 352
        },
        "id": "dTeHSzo50sKh",
        "outputId": "7511fca4-edcd-43bc-a837-3a847d782478"
      },
      "source": [
        "import matplotlib.pyplot as plt\n",
        "fig = plt.figure()\n",
        "ax = fig.add_axes([0,0,1,1])\n",
        "x = ['1k - 5k', '5k - 10k', '10k <']\n",
        "y = price_range(df_samsung)\n",
        "ax.bar(x,y)\n",
        "plt.title('Price Range')\n",
        "plt.show()"
      ],
      "execution_count": 23,
      "outputs": [
        {
          "output_type": "display_data",
          "data": {
            "image/png": "[encoded data removed]",
            "text/plain": [
              "<Figure size 432x288 with 1 Axes>"
            ]
          },
          "metadata": {
            "tags": [],
            "needs_background": "light"
          }
        }
      ]
    },
    {
      "cell_type": "code",
      "metadata": {
        "colab": {
          "base_uri": "https://localhost:8080/",
          "height": 352
        },
        "id": "wPPlvHB0sNaD",
        "outputId": "062bc99a-c793-4992-acb3-e80e6e0f5707"
      },
      "source": [
        "import matplotlib.pyplot as plt\n",
        "fig = plt.figure()\n",
        "ax = fig.add_axes([0,0,1,1])\n",
        "x = ['1k - 5k', '5k - 10k', '10k <']\n",
        "y = price_range(df_samsung)\n",
        "ax.bar(x,y)\n",
        "plt.title('Price Range')\n",
        "plt.show()"
      ],
      "execution_count": 24,
      "outputs": [
        {
          "output_type": "display_data",
          "data": {
            "image/png": "[encoded data removed]",
            "text/plain": [
              "<Figure size 432x288 with 1 Axes>"
            ]
          },
          "metadata": {
            "tags": [],
            "needs_background": "light"
          }
        }
      ]
    },
    {
      "cell_type": "code",
      "metadata": {
        "colab": {
          "base_uri": "https://localhost:8080/",
          "height": 402
        },
        "id": "BHNgVl620l9f",
        "outputId": "2bb606c1-82bc-4b46-a77f-1771c85507ee"
      },
      "source": [
        "df_redmi"
      ],
      "execution_count": 25,
      "outputs": [
        {
          "output_type": "execute_result",
          "data": {
            "text/html": [
              "<div>\n",
              "<style scoped>\n",
              "    .dataframe tbody tr th:only-of-type {\n",
              "        vertical-align: middle;\n",
              "    }\n",
              "\n",
              "    .dataframe tbody tr th {\n",
              "        vertical-align: top;\n",
              "    }\n",
              "\n",
              "    .dataframe thead th {\n",
              "        text-align: right;\n",
              "    }\n",
              "</style>\n",
              "<table border=\"1\" class=\"dataframe\">\n",
              "  <thead>\n",
              "    <tr style=\"text-align: right;\">\n",
              "      <th></th>\n",
              "      <th>name</th>\n",
              "      <th>price</th>\n",
              "      <th>rating</th>\n",
              "      <th>Manufacturer</th>\n",
              "    </tr>\n",
              "  </thead>\n",
              "  <tbody>\n",
              "    <tr>\n",
              "      <th>4</th>\n",
              "      <td>Redmi 20000mAh Li-Polymer Power Bank (Black), ...</td>\n",
              "      <td>1,199</td>\n",
              "      <td>4.4</td>\n",
              "      <td>redmi</td>\n",
              "    </tr>\n",
              "    <tr>\n",
              "      <th>5</th>\n",
              "      <td>Redmi Earbuds S (with Gaming Mode), Up to 12 H...</td>\n",
              "      <td>1,299</td>\n",
              "      <td>3.4</td>\n",
              "      <td>redmi</td>\n",
              "    </tr>\n",
              "    <tr>\n",
              "      <th>6</th>\n",
              "      <td>Redmi Note 9 Pro Max (Champagne Gold, 6GB RAM,...</td>\n",
              "      <td>14,999</td>\n",
              "      <td>4.4</td>\n",
              "      <td>redmi</td>\n",
              "    </tr>\n",
              "    <tr>\n",
              "      <th>7</th>\n",
              "      <td>Redmi Note 9 (Pebble Grey, 4GB RAM 64GB Storag...</td>\n",
              "      <td>11,999</td>\n",
              "      <td>4.2</td>\n",
              "      <td>redmi</td>\n",
              "    </tr>\n",
              "    <tr>\n",
              "      <th>10</th>\n",
              "      <td>Redmi 10000 mAh Fast Charging Slim Power Bank ...</td>\n",
              "      <td>699</td>\n",
              "      <td>4.1</td>\n",
              "      <td>redmi</td>\n",
              "    </tr>\n",
              "    <tr>\n",
              "      <th>...</th>\n",
              "      <td>...</td>\n",
              "      <td>...</td>\n",
              "      <td>...</td>\n",
              "      <td>...</td>\n",
              "    </tr>\n",
              "    <tr>\n",
              "      <th>354</th>\n",
              "      <td>Redmi Note 9 Pro Max (Champagne Gold, 6GB RAM,...</td>\n",
              "      <td>17,499</td>\n",
              "      <td>4.1</td>\n",
              "      <td>redmi</td>\n",
              "    </tr>\n",
              "    <tr>\n",
              "      <th>356</th>\n",
              "      <td>Redmi 9 Prime (Sunrise Flare, 4GB RAM, 128GB S...</td>\n",
              "      <td>10,999</td>\n",
              "      <td>4.2</td>\n",
              "      <td>redmi</td>\n",
              "    </tr>\n",
              "    <tr>\n",
              "      <th>357</th>\n",
              "      <td>Redmi 9 Prime (Matte Black, 4GB RAM, 128GB Sto...</td>\n",
              "      <td>10,999</td>\n",
              "      <td>4.1</td>\n",
              "      <td>redmi</td>\n",
              "    </tr>\n",
              "    <tr>\n",
              "      <th>359</th>\n",
              "      <td>Redmi Note 9 (Pebble Grey, 6GB RAM 128GB Stora...</td>\n",
              "      <td>13,999</td>\n",
              "      <td>4.2</td>\n",
              "      <td>redmi</td>\n",
              "    </tr>\n",
              "    <tr>\n",
              "      <th>363</th>\n",
              "      <td>Redmi 8A Dual (Sea Blue, 3GB RAM, 32GB Storage...</td>\n",
              "      <td>7,999</td>\n",
              "      <td>4.2</td>\n",
              "      <td>redmi</td>\n",
              "    </tr>\n",
              "  </tbody>\n",
              "</table>\n",
              "<p>165 rows × 4 columns</p>\n",
              "</div>"
            ],
            "text/plain": [
              "                                                  name  ... Manufacturer\n",
              "4    Redmi 20000mAh Li-Polymer Power Bank (Black), ...  ...        redmi\n",
              "5    Redmi Earbuds S (with Gaming Mode), Up to 12 H...  ...        redmi\n",
              "6    Redmi Note 9 Pro Max (Champagne Gold, 6GB RAM,...  ...        redmi\n",
              "7    Redmi Note 9 (Pebble Grey, 4GB RAM 64GB Storag...  ...        redmi\n",
              "10   Redmi 10000 mAh Fast Charging Slim Power Bank ...  ...        redmi\n",
              "..                                                 ...  ...          ...\n",
              "354  Redmi Note 9 Pro Max (Champagne Gold, 6GB RAM,...  ...        redmi\n",
              "356  Redmi 9 Prime (Sunrise Flare, 4GB RAM, 128GB S...  ...        redmi\n",
              "357  Redmi 9 Prime (Matte Black, 4GB RAM, 128GB Sto...  ...        redmi\n",
              "359  Redmi Note 9 (Pebble Grey, 6GB RAM 128GB Stora...  ...        redmi\n",
              "363  Redmi 8A Dual (Sea Blue, 3GB RAM, 32GB Storage...  ...        redmi\n",
              "\n",
              "[165 rows x 4 columns]"
            ]
          },
          "metadata": {
            "tags": []
          },
          "execution_count": 25
        }
      ]
    },
    {
      "cell_type": "code",
      "metadata": {
        "colab": {
          "base_uri": "https://localhost:8080/",
          "height": 402
        },
        "id": "RuQipczTw6y7",
        "outputId": "914b1a2e-cf95-4691-bc03-a53daf8d95c8"
      },
      "source": [
        "df_samsung"
      ],
      "execution_count": 26,
      "outputs": [
        {
          "output_type": "execute_result",
          "data": {
            "text/html": [
              "<div>\n",
              "<style scoped>\n",
              "    .dataframe tbody tr th:only-of-type {\n",
              "        vertical-align: middle;\n",
              "    }\n",
              "\n",
              "    .dataframe tbody tr th {\n",
              "        vertical-align: top;\n",
              "    }\n",
              "\n",
              "    .dataframe thead th {\n",
              "        text-align: right;\n",
              "    }\n",
              "</style>\n",
              "<table border=\"1\" class=\"dataframe\">\n",
              "  <thead>\n",
              "    <tr style=\"text-align: right;\">\n",
              "      <th></th>\n",
              "      <th>name</th>\n",
              "      <th>price</th>\n",
              "      <th>rating</th>\n",
              "      <th>Manufacturer</th>\n",
              "    </tr>\n",
              "  </thead>\n",
              "  <tbody>\n",
              "    <tr>\n",
              "      <th>0</th>\n",
              "      <td>Samsung Galaxy M51 (Celestial Black, 6GB RAM, ...</td>\n",
              "      <td>22,999</td>\n",
              "      <td>4</td>\n",
              "      <td>samsung</td>\n",
              "    </tr>\n",
              "    <tr>\n",
              "      <th>1</th>\n",
              "      <td>Samsung Galaxy M01 Core (Black, 2GB RAM, 32GB ...</td>\n",
              "      <td>5,999</td>\n",
              "      <td>3</td>\n",
              "      <td>samsung</td>\n",
              "    </tr>\n",
              "    <tr>\n",
              "      <th>2</th>\n",
              "      <td>Samsung EVO Plus 128GB microSDXC UHS-I U3 100M...</td>\n",
              "      <td>1,329</td>\n",
              "      <td>2</td>\n",
              "      <td>samsung</td>\n",
              "    </tr>\n",
              "    <tr>\n",
              "      <th>3</th>\n",
              "      <td>Samsung Galaxy M21 (Raven Black, 6GB RAM, 128G...</td>\n",
              "      <td>14,499</td>\n",
              "      <td>1</td>\n",
              "      <td>samsung</td>\n",
              "    </tr>\n",
              "    <tr>\n",
              "      <th>8</th>\n",
              "      <td>Samsung Galaxy M31s (Mirage Black, 8GB RAM, 12...</td>\n",
              "      <td>19,999</td>\n",
              "      <td>4.1</td>\n",
              "      <td>samsung</td>\n",
              "    </tr>\n",
              "    <tr>\n",
              "      <th>...</th>\n",
              "      <td>...</td>\n",
              "      <td>...</td>\n",
              "      <td>...</td>\n",
              "      <td>...</td>\n",
              "    </tr>\n",
              "    <tr>\n",
              "      <th>360</th>\n",
              "      <td>Samsung Galaxy M01 Core (Blue, 1GB RAM, 16GB S...</td>\n",
              "      <td>4,999</td>\n",
              "      <td>4.2</td>\n",
              "      <td>samsung</td>\n",
              "    </tr>\n",
              "    <tr>\n",
              "      <th>361</th>\n",
              "      <td>Samsung Guru Music 2 (SM-B310E, Black)</td>\n",
              "      <td>1,900</td>\n",
              "      <td>4.2</td>\n",
              "      <td>samsung</td>\n",
              "    </tr>\n",
              "    <tr>\n",
              "      <th>362</th>\n",
              "      <td>Samsung EVO Plus 32GB microSDHC UHS-I U1 95MB/...</td>\n",
              "      <td>419</td>\n",
              "      <td>3.4</td>\n",
              "      <td>samsung</td>\n",
              "    </tr>\n",
              "    <tr>\n",
              "      <th>364</th>\n",
              "      <td>Samsung EHS64 EHS64AVFWECINU Wired Stereo Head...</td>\n",
              "      <td>399</td>\n",
              "      <td>4.4</td>\n",
              "      <td>samsung</td>\n",
              "    </tr>\n",
              "    <tr>\n",
              "      <th>365</th>\n",
              "      <td>Samsung Guru Music 2 (SM-B310E, Blue)</td>\n",
              "      <td>1,709</td>\n",
              "      <td>4.0</td>\n",
              "      <td>samsung</td>\n",
              "    </tr>\n",
              "  </tbody>\n",
              "</table>\n",
              "<p>201 rows × 4 columns</p>\n",
              "</div>"
            ],
            "text/plain": [
              "                                                  name  ... Manufacturer\n",
              "0    Samsung Galaxy M51 (Celestial Black, 6GB RAM, ...  ...      samsung\n",
              "1    Samsung Galaxy M01 Core (Black, 2GB RAM, 32GB ...  ...      samsung\n",
              "2    Samsung EVO Plus 128GB microSDXC UHS-I U3 100M...  ...      samsung\n",
              "3    Samsung Galaxy M21 (Raven Black, 6GB RAM, 128G...  ...      samsung\n",
              "8    Samsung Galaxy M31s (Mirage Black, 8GB RAM, 12...  ...      samsung\n",
              "..                                                 ...  ...          ...\n",
              "360  Samsung Galaxy M01 Core (Blue, 1GB RAM, 16GB S...  ...      samsung\n",
              "361             Samsung Guru Music 2 (SM-B310E, Black)  ...      samsung\n",
              "362  Samsung EVO Plus 32GB microSDHC UHS-I U1 95MB/...  ...      samsung\n",
              "364  Samsung EHS64 EHS64AVFWECINU Wired Stereo Head...  ...      samsung\n",
              "365              Samsung Guru Music 2 (SM-B310E, Blue)  ...      samsung\n",
              "\n",
              "[201 rows x 4 columns]"
            ]
          },
          "metadata": {
            "tags": []
          },
          "execution_count": 26
        }
      ]
    },
    {
      "cell_type": "code",
      "metadata": {
        "colab": {
          "base_uri": "https://localhost:8080/"
        },
        "id": "Fki1S9CAxm0L",
        "outputId": "cdc5a689-7906-4f86-94f8-77771c80b894"
      },
      "source": [
        "\n",
        "grouped = df_redmi.groupby(df_redmi.rating) \n",
        "print('Best rating ', df_redmi.max()[2])\n",
        "print(grouped.get_group(df_redmi.max()[2]).iloc[:,0].values)"
      ],
      "execution_count": 30,
      "outputs": [
        {
          "output_type": "stream",
          "text": [
            "Best rating  4.4\n",
            "['Redmi 20000mAh Li-Polymer Power Bank (Black), USB Type C and Micro USB Ports | 18W Fast Charging'\n",
            " 'Redmi Note 9 Pro Max (Champagne Gold, 6GB RAM, 64GB Storage) - 64MP Quad Camera & Latest 8nm Snapdragon 720G & Alexa Hands-Free | Upto 12 Months No Cost EMI |Extra INR 1000 Off with Coupons'\n",
            " 'Redmi Note 9 Pro Max (Champagne Gold, 6GB RAM, 64GB Storage) - 64MP Quad Camera & Latest 8nm Snapdragon 720G & Alexa Hands-Free | Upto 12 Months No Cost EMI |Extra INR 1000 Off with Coupons'\n",
            " 'Redmi Note 9 Pro Max (Champagne Gold, 6GB RAM, 64GB Storage) - 64MP Quad Camera & Latest 8nm Snapdragon 720G & Alexa Hands-Free | Upto 12 Months No Cost EMI |Extra INR 1000 Off with Coupons'\n",
            " 'Redmi Note 9 Pro Max (Champagne Gold, 6GB RAM, 64GB Storage) - 64MP Quad Camera & Latest 8nm Snapdragon 720G & Alexa Hands-Free | Upto 12 Months No Cost EMI |Extra INR 1000 Off with Coupons'\n",
            " 'Redmi 20000mAh Li-Polymer Power Bank (Black), USB Type C and Micro USB Ports | 18W Fast Charging'\n",
            " 'Redmi Note 9 Pro Max (Champagne Gold, 6GB RAM, 64GB Storage) - 64MP Quad Camera & Latest 8nm Snapdragon 720G & Alexa Hands-Free | Upto 12 Months No Cost EMI |Extra INR 1000 Off with Coupons'\n",
            " 'Redmi 20000mAh Li-Polymer Power Bank (Black), USB Type C and Micro USB Ports | 18W Fast Charging'\n",
            " 'Redmi Note 9 Pro Max (Champagne Gold, 6GB RAM, 64GB Storage) - 64MP Quad Camera & Latest 8nm Snapdragon 720G & Alexa Hands-Free | Upto 12 Months No Cost EMI |Extra INR 1000 Off with Coupons'\n",
            " 'Redmi Note 9 Pro Max (Champagne Gold, 6GB RAM, 64GB Storage) - 64MP Quad Camera & Latest 8nm Snapdragon 720G & Alexa Hands-Free | Upto 12 Months No Cost EMI |Extra INR 1000 Off with Coupons'\n",
            " 'Redmi Note 9 Pro Max (Champagne Gold, 6GB RAM, 64GB Storage) - 64MP Quad Camera & Latest 8nm Snapdragon 720G & Alexa Hands-Free | Upto 12 Months No Cost EMI |Extra INR 1000 Off with Coupons'\n",
            " 'Redmi Note 9 Pro Max (Champagne Gold, 6GB RAM, 64GB Storage) - 64MP Quad Camera & Latest 8nm Snapdragon 720G & Alexa Hands-Free | Upto 12 Months No Cost EMI |Extra INR 1000 Off with Coupons'\n",
            " 'Redmi 20000mAh Li-Polymer Power Bank (Black), USB Type C and Micro USB Ports | 18W Fast Charging'\n",
            " 'Redmi Note 9 Pro Max (Champagne Gold, 6GB RAM, 64GB Storage) - 64MP Quad Camera & Latest 8nm Snapdragon 720G & Alexa Hands-Free | Upto 12 Months No Cost EMI |Extra INR 1000 Off with Coupons'\n",
            " 'Redmi 20000mAh Li-Polymer Power Bank (Black), USB Type C and Micro USB Ports | 18W Fast Charging'\n",
            " 'Redmi Note 9 Pro Max (Champagne Gold, 6GB RAM, 64GB Storage) - 64MP Quad Camera & Latest 8nm Snapdragon 720G & Alexa Hands-Free | Upto 12 Months No Cost EMI |Extra INR 1000 Off with Coupons'\n",
            " 'Redmi Note 9 Pro Max (Champagne Gold, 6GB RAM, 64GB Storage) - 64MP Quad Camera & Latest 8nm Snapdragon 720G & Alexa Hands-Free | Upto 12 Months No Cost EMI |Extra INR 1000 Off with Coupons'\n",
            " 'Redmi Note 9 Pro Max (Champagne Gold, 6GB RAM, 64GB Storage) - 64MP Quad Camera & Latest 8nm Snapdragon 720G & Alexa Hands-Free | Upto 12 Months No Cost EMI |Extra INR 1000 Off with Coupons'\n",
            " 'Redmi Note 9 Pro Max (Champagne Gold, 6GB RAM, 64GB Storage) - 64MP Quad Camera & Latest 8nm Snapdragon 720G & Alexa Hands-Free | Upto 12 Months No Cost EMI |Extra INR 1000 Off with Coupons'\n",
            " 'Redmi 20000mAh Li-Polymer Power Bank (Black), USB Type C and Micro USB Ports | 18W Fast Charging'\n",
            " 'Redmi Note 9 Pro Max (Champagne Gold, 6GB RAM, 64GB Storage) - 64MP Quad Camera & Latest 8nm Snapdragon 720G & Alexa Hands-Free | Upto 12 Months No Cost EMI |Extra INR 1000 Off with Coupons']\n"
          ],
          "name": "stdout"
        }
      ]
    },
    {
      "cell_type": "code",
      "metadata": {
        "colab": {
          "base_uri": "https://localhost:8080/"
        },
        "id": "jHcPVUhQ2I5r",
        "outputId": "f274e95f-5a49-42a8-8743-68d6ebca8a75"
      },
      "source": [
        "\n",
        "grouped = df_samsung.groupby(df_samsung.rating)\n",
        "print('Best rating ', df_samsung.max()[2])\n",
        "print(grouped.get_group(df_samsung.max()[2]).iloc[:,0].values)"
      ],
      "execution_count": 29,
      "outputs": [
        {
          "output_type": "stream",
          "text": [
            "Best rating  4.4\n",
            "['Samsung Original Level U Bluetooth Wireless in-Ear Headphones (Black and Sapphire)'\n",
            " 'Samsung Original Level U Bluetooth Wireless in-Ear Headphones (Black and Sapphire)'\n",
            " 'Samsung Original Level U Bluetooth Wireless in-Ear Headphones (Black and Sapphire)'\n",
            " 'Samsung Original Level U Bluetooth Wireless in-Ear Headphones (Black and Sapphire)'\n",
            " 'Samsung Original Level U Bluetooth Wireless in-Ear Headphones (Black and Sapphire)'\n",
            " 'Samsung Original Level U Bluetooth Wireless in-Ear Headphones (Black and Sapphire)'\n",
            " 'Samsung Original Level U Bluetooth Wireless in-Ear Headphones (Black and Sapphire)'\n",
            " 'Samsung EHS64 EHS64AVFWECINU Wired Stereo Headset (White)'\n",
            " 'Samsung Original Level U Bluetooth Wireless in-Ear Headphones (Black and Sapphire)'\n",
            " 'Samsung Original Level U Bluetooth Wireless in-Ear Headphones (Black and Sapphire)'\n",
            " 'Samsung Original Level U Bluetooth Wireless in-Ear Headphones (Black and Sapphire)'\n",
            " 'Samsung EHS64 EHS64AVFWECINU Wired Stereo Headset (White)'\n",
            " 'Samsung EHS64 EHS64AVFWECINU Wired Stereo Headset (White)'\n",
            " 'Samsung Original Level U Bluetooth Wireless in-Ear Headphones (Black and Sapphire)'\n",
            " 'Samsung EHS64 EHS64AVFWECINU Wired Stereo Headset (White)']\n"
          ],
          "name": "stdout"
        }
      ]
    },
    {
      "cell_type": "code",
      "metadata": {
        "id": "3wRh-hGB2wt6"
      },
      "source": [
        ""
      ],
      "execution_count": 28,
      "outputs": []
    }
  ]
}